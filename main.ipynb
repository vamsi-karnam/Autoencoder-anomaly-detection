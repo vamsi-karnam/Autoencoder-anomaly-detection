{
 "cells": [
  {
   "cell_type": "code",
   "execution_count": 1,
   "metadata": {},
   "outputs": [
    {
     "name": "stdout",
     "output_type": "stream",
     "text": [
      "Requirement already satisfied: tensorflow in c:\\users\\vamsi\\appdata\\local\\packages\\pythonsoftwarefoundation.python.3.10_qbz5n2kfra8p0\\localcache\\local-packages\\python310\\site-packages (2.12.0)\n",
      "Requirement already satisfied: tensorflow-intel==2.12.0 in c:\\users\\vamsi\\appdata\\local\\packages\\pythonsoftwarefoundation.python.3.10_qbz5n2kfra8p0\\localcache\\local-packages\\python310\\site-packages (from tensorflow) (2.12.0)\n",
      "Requirement already satisfied: absl-py>=1.0.0 in c:\\users\\vamsi\\appdata\\local\\packages\\pythonsoftwarefoundation.python.3.10_qbz5n2kfra8p0\\localcache\\local-packages\\python310\\site-packages (from tensorflow-intel==2.12.0->tensorflow) (1.4.0)\n",
      "Requirement already satisfied: astunparse>=1.6.0 in c:\\users\\vamsi\\appdata\\local\\packages\\pythonsoftwarefoundation.python.3.10_qbz5n2kfra8p0\\localcache\\local-packages\\python310\\site-packages (from tensorflow-intel==2.12.0->tensorflow) (1.6.3)\n",
      "Requirement already satisfied: flatbuffers>=2.0 in c:\\users\\vamsi\\appdata\\local\\packages\\pythonsoftwarefoundation.python.3.10_qbz5n2kfra8p0\\localcache\\local-packages\\python310\\site-packages (from tensorflow-intel==2.12.0->tensorflow) (23.3.3)\n",
      "Requirement already satisfied: gast<=0.4.0,>=0.2.1 in c:\\users\\vamsi\\appdata\\local\\packages\\pythonsoftwarefoundation.python.3.10_qbz5n2kfra8p0\\localcache\\local-packages\\python310\\site-packages (from tensorflow-intel==2.12.0->tensorflow) (0.4.0)\n",
      "Requirement already satisfied: google-pasta>=0.1.1 in c:\\users\\vamsi\\appdata\\local\\packages\\pythonsoftwarefoundation.python.3.10_qbz5n2kfra8p0\\localcache\\local-packages\\python310\\site-packages (from tensorflow-intel==2.12.0->tensorflow) (0.2.0)\n",
      "Requirement already satisfied: h5py>=2.9.0 in c:\\users\\vamsi\\appdata\\local\\packages\\pythonsoftwarefoundation.python.3.10_qbz5n2kfra8p0\\localcache\\local-packages\\python310\\site-packages (from tensorflow-intel==2.12.0->tensorflow) (3.8.0)\n",
      "Requirement already satisfied: jax>=0.3.15 in c:\\users\\vamsi\\appdata\\local\\packages\\pythonsoftwarefoundation.python.3.10_qbz5n2kfra8p0\\localcache\\local-packages\\python310\\site-packages (from tensorflow-intel==2.12.0->tensorflow) (0.4.13)\n",
      "Requirement already satisfied: libclang>=13.0.0 in c:\\users\\vamsi\\appdata\\local\\packages\\pythonsoftwarefoundation.python.3.10_qbz5n2kfra8p0\\localcache\\local-packages\\python310\\site-packages (from tensorflow-intel==2.12.0->tensorflow) (15.0.6.1)\n",
      "Requirement already satisfied: numpy<1.24,>=1.22 in c:\\users\\vamsi\\appdata\\local\\packages\\pythonsoftwarefoundation.python.3.10_qbz5n2kfra8p0\\localcache\\local-packages\\python310\\site-packages (from tensorflow-intel==2.12.0->tensorflow) (1.23.5)\n",
      "Requirement already satisfied: opt-einsum>=2.3.2 in c:\\users\\vamsi\\appdata\\local\\packages\\pythonsoftwarefoundation.python.3.10_qbz5n2kfra8p0\\localcache\\local-packages\\python310\\site-packages (from tensorflow-intel==2.12.0->tensorflow) (3.3.0)\n",
      "Requirement already satisfied: packaging in c:\\users\\vamsi\\appdata\\local\\packages\\pythonsoftwarefoundation.python.3.10_qbz5n2kfra8p0\\localcache\\local-packages\\python310\\site-packages (from tensorflow-intel==2.12.0->tensorflow) (23.0)\n",
      "Requirement already satisfied: protobuf!=4.21.0,!=4.21.1,!=4.21.2,!=4.21.3,!=4.21.4,!=4.21.5,<5.0.0dev,>=3.20.3 in c:\\users\\vamsi\\appdata\\local\\packages\\pythonsoftwarefoundation.python.3.10_qbz5n2kfra8p0\\localcache\\local-packages\\python310\\site-packages (from tensorflow-intel==2.12.0->tensorflow) (4.23.4)\n",
      "Requirement already satisfied: setuptools in c:\\program files\\windowsapps\\pythonsoftwarefoundation.python.3.10_3.10.3056.0_x64__qbz5n2kfra8p0\\lib\\site-packages (from tensorflow-intel==2.12.0->tensorflow) (65.5.0)\n",
      "Requirement already satisfied: six>=1.12.0 in c:\\users\\vamsi\\appdata\\local\\packages\\pythonsoftwarefoundation.python.3.10_qbz5n2kfra8p0\\localcache\\local-packages\\python310\\site-packages (from tensorflow-intel==2.12.0->tensorflow) (1.16.0)\n",
      "Requirement already satisfied: termcolor>=1.1.0 in c:\\users\\vamsi\\appdata\\local\\packages\\pythonsoftwarefoundation.python.3.10_qbz5n2kfra8p0\\localcache\\local-packages\\python310\\site-packages (from tensorflow-intel==2.12.0->tensorflow) (2.2.0)\n",
      "Requirement already satisfied: typing-extensions>=3.6.6 in c:\\users\\vamsi\\appdata\\local\\packages\\pythonsoftwarefoundation.python.3.10_qbz5n2kfra8p0\\localcache\\local-packages\\python310\\site-packages (from tensorflow-intel==2.12.0->tensorflow) (4.5.0)\n",
      "Requirement already satisfied: wrapt<1.15,>=1.11.0 in c:\\users\\vamsi\\appdata\\local\\packages\\pythonsoftwarefoundation.python.3.10_qbz5n2kfra8p0\\localcache\\local-packages\\python310\\site-packages (from tensorflow-intel==2.12.0->tensorflow) (1.14.1)\n",
      "Requirement already satisfied: grpcio<2.0,>=1.24.3 in c:\\users\\vamsi\\appdata\\local\\packages\\pythonsoftwarefoundation.python.3.10_qbz5n2kfra8p0\\localcache\\local-packages\\python310\\site-packages (from tensorflow-intel==2.12.0->tensorflow) (1.51.3)\n",
      "Requirement already satisfied: tensorboard<2.13,>=2.12 in c:\\users\\vamsi\\appdata\\local\\packages\\pythonsoftwarefoundation.python.3.10_qbz5n2kfra8p0\\localcache\\local-packages\\python310\\site-packages (from tensorflow-intel==2.12.0->tensorflow) (2.12.3)\n",
      "Requirement already satisfied: tensorflow-estimator<2.13,>=2.12.0 in c:\\users\\vamsi\\appdata\\local\\packages\\pythonsoftwarefoundation.python.3.10_qbz5n2kfra8p0\\localcache\\local-packages\\python310\\site-packages (from tensorflow-intel==2.12.0->tensorflow) (2.12.0)\n",
      "Requirement already satisfied: keras<2.13,>=2.12.0 in c:\\users\\vamsi\\appdata\\local\\packages\\pythonsoftwarefoundation.python.3.10_qbz5n2kfra8p0\\localcache\\local-packages\\python310\\site-packages (from tensorflow-intel==2.12.0->tensorflow) (2.12.0)\n",
      "Requirement already satisfied: tensorflow-io-gcs-filesystem>=0.23.1 in c:\\users\\vamsi\\appdata\\local\\packages\\pythonsoftwarefoundation.python.3.10_qbz5n2kfra8p0\\localcache\\local-packages\\python310\\site-packages (from tensorflow-intel==2.12.0->tensorflow) (0.31.0)\n",
      "Requirement already satisfied: wheel<1.0,>=0.23.0 in c:\\users\\vamsi\\appdata\\local\\packages\\pythonsoftwarefoundation.python.3.10_qbz5n2kfra8p0\\localcache\\local-packages\\python310\\site-packages (from astunparse>=1.6.0->tensorflow-intel==2.12.0->tensorflow) (0.40.0)\n",
      "Requirement already satisfied: ml-dtypes>=0.1.0 in c:\\users\\vamsi\\appdata\\local\\packages\\pythonsoftwarefoundation.python.3.10_qbz5n2kfra8p0\\localcache\\local-packages\\python310\\site-packages (from jax>=0.3.15->tensorflow-intel==2.12.0->tensorflow) (0.2.0)\n",
      "Requirement already satisfied: scipy>=1.7 in c:\\users\\vamsi\\appdata\\local\\packages\\pythonsoftwarefoundation.python.3.10_qbz5n2kfra8p0\\localcache\\local-packages\\python310\\site-packages (from jax>=0.3.15->tensorflow-intel==2.12.0->tensorflow) (1.10.1)\n",
      "Requirement already satisfied: google-auth<3,>=1.6.3 in c:\\users\\vamsi\\appdata\\local\\packages\\pythonsoftwarefoundation.python.3.10_qbz5n2kfra8p0\\localcache\\local-packages\\python310\\site-packages (from tensorboard<2.13,>=2.12->tensorflow-intel==2.12.0->tensorflow) (2.16.2)\n",
      "Requirement already satisfied: google-auth-oauthlib<1.1,>=0.5 in c:\\users\\vamsi\\appdata\\local\\packages\\pythonsoftwarefoundation.python.3.10_qbz5n2kfra8p0\\localcache\\local-packages\\python310\\site-packages (from tensorboard<2.13,>=2.12->tensorflow-intel==2.12.0->tensorflow) (1.0.0)\n",
      "Requirement already satisfied: markdown>=2.6.8 in c:\\users\\vamsi\\appdata\\local\\packages\\pythonsoftwarefoundation.python.3.10_qbz5n2kfra8p0\\localcache\\local-packages\\python310\\site-packages (from tensorboard<2.13,>=2.12->tensorflow-intel==2.12.0->tensorflow) (3.4.1)\n",
      "Requirement already satisfied: requests<3,>=2.21.0 in c:\\users\\vamsi\\appdata\\local\\packages\\pythonsoftwarefoundation.python.3.10_qbz5n2kfra8p0\\localcache\\local-packages\\python310\\site-packages (from tensorboard<2.13,>=2.12->tensorflow-intel==2.12.0->tensorflow) (2.28.2)\n",
      "Requirement already satisfied: tensorboard-data-server<0.8.0,>=0.7.0 in c:\\users\\vamsi\\appdata\\local\\packages\\pythonsoftwarefoundation.python.3.10_qbz5n2kfra8p0\\localcache\\local-packages\\python310\\site-packages (from tensorboard<2.13,>=2.12->tensorflow-intel==2.12.0->tensorflow) (0.7.1)\n",
      "Requirement already satisfied: werkzeug>=1.0.1 in c:\\users\\vamsi\\appdata\\local\\packages\\pythonsoftwarefoundation.python.3.10_qbz5n2kfra8p0\\localcache\\local-packages\\python310\\site-packages (from tensorboard<2.13,>=2.12->tensorflow-intel==2.12.0->tensorflow) (2.2.3)\n",
      "Requirement already satisfied: cachetools<6.0,>=2.0.0 in c:\\users\\vamsi\\appdata\\local\\packages\\pythonsoftwarefoundation.python.3.10_qbz5n2kfra8p0\\localcache\\local-packages\\python310\\site-packages (from google-auth<3,>=1.6.3->tensorboard<2.13,>=2.12->tensorflow-intel==2.12.0->tensorflow) (5.3.0)\n",
      "Requirement already satisfied: pyasn1-modules>=0.2.1 in c:\\users\\vamsi\\appdata\\local\\packages\\pythonsoftwarefoundation.python.3.10_qbz5n2kfra8p0\\localcache\\local-packages\\python310\\site-packages (from google-auth<3,>=1.6.3->tensorboard<2.13,>=2.12->tensorflow-intel==2.12.0->tensorflow) (0.2.8)\n",
      "Requirement already satisfied: rsa<5,>=3.1.4 in c:\\users\\vamsi\\appdata\\local\\packages\\pythonsoftwarefoundation.python.3.10_qbz5n2kfra8p0\\localcache\\local-packages\\python310\\site-packages (from google-auth<3,>=1.6.3->tensorboard<2.13,>=2.12->tensorflow-intel==2.12.0->tensorflow) (4.9)\n",
      "Requirement already satisfied: requests-oauthlib>=0.7.0 in c:\\users\\vamsi\\appdata\\local\\packages\\pythonsoftwarefoundation.python.3.10_qbz5n2kfra8p0\\localcache\\local-packages\\python310\\site-packages (from google-auth-oauthlib<1.1,>=0.5->tensorboard<2.13,>=2.12->tensorflow-intel==2.12.0->tensorflow) (1.3.1)\n",
      "Requirement already satisfied: charset-normalizer<4,>=2 in c:\\users\\vamsi\\appdata\\local\\packages\\pythonsoftwarefoundation.python.3.10_qbz5n2kfra8p0\\localcache\\local-packages\\python310\\site-packages (from requests<3,>=2.21.0->tensorboard<2.13,>=2.12->tensorflow-intel==2.12.0->tensorflow) (3.0.1)\n",
      "Requirement already satisfied: idna<4,>=2.5 in c:\\users\\vamsi\\appdata\\local\\packages\\pythonsoftwarefoundation.python.3.10_qbz5n2kfra8p0\\localcache\\local-packages\\python310\\site-packages (from requests<3,>=2.21.0->tensorboard<2.13,>=2.12->tensorflow-intel==2.12.0->tensorflow) (3.4)\n",
      "Requirement already satisfied: urllib3<1.27,>=1.21.1 in c:\\users\\vamsi\\appdata\\local\\packages\\pythonsoftwarefoundation.python.3.10_qbz5n2kfra8p0\\localcache\\local-packages\\python310\\site-packages (from requests<3,>=2.21.0->tensorboard<2.13,>=2.12->tensorflow-intel==2.12.0->tensorflow) (1.26.14)\n",
      "Requirement already satisfied: certifi>=2017.4.17 in c:\\users\\vamsi\\appdata\\local\\packages\\pythonsoftwarefoundation.python.3.10_qbz5n2kfra8p0\\localcache\\local-packages\\python310\\site-packages (from requests<3,>=2.21.0->tensorboard<2.13,>=2.12->tensorflow-intel==2.12.0->tensorflow) (2022.12.7)\n",
      "Requirement already satisfied: MarkupSafe>=2.1.1 in c:\\users\\vamsi\\appdata\\local\\packages\\pythonsoftwarefoundation.python.3.10_qbz5n2kfra8p0\\localcache\\local-packages\\python310\\site-packages (from werkzeug>=1.0.1->tensorboard<2.13,>=2.12->tensorflow-intel==2.12.0->tensorflow) (2.1.2)\n",
      "Requirement already satisfied: pyasn1<0.5.0,>=0.4.6 in c:\\users\\vamsi\\appdata\\local\\packages\\pythonsoftwarefoundation.python.3.10_qbz5n2kfra8p0\\localcache\\local-packages\\python310\\site-packages (from pyasn1-modules>=0.2.1->google-auth<3,>=1.6.3->tensorboard<2.13,>=2.12->tensorflow-intel==2.12.0->tensorflow) (0.4.8)\n",
      "Requirement already satisfied: oauthlib>=3.0.0 in c:\\users\\vamsi\\appdata\\local\\packages\\pythonsoftwarefoundation.python.3.10_qbz5n2kfra8p0\\localcache\\local-packages\\python310\\site-packages (from requests-oauthlib>=0.7.0->google-auth-oauthlib<1.1,>=0.5->tensorboard<2.13,>=2.12->tensorflow-intel==2.12.0->tensorflow) (3.2.2)\n"
     ]
    },
    {
     "name": "stderr",
     "output_type": "stream",
     "text": [
      "WARNING: Ignoring invalid distribution -rotobuf (c:\\users\\vamsi\\appdata\\local\\packages\\pythonsoftwarefoundation.python.3.10_qbz5n2kfra8p0\\localcache\\local-packages\\python310\\site-packages)\n",
      "WARNING: Ignoring invalid distribution -rotobuf (c:\\users\\vamsi\\appdata\\local\\packages\\pythonsoftwarefoundation.python.3.10_qbz5n2kfra8p0\\localcache\\local-packages\\python310\\site-packages)\n",
      "WARNING: Ignoring invalid distribution -rotobuf (c:\\users\\vamsi\\appdata\\local\\packages\\pythonsoftwarefoundation.python.3.10_qbz5n2kfra8p0\\localcache\\local-packages\\python310\\site-packages)\n",
      "WARNING: Ignoring invalid distribution -rotobuf (c:\\users\\vamsi\\appdata\\local\\packages\\pythonsoftwarefoundation.python.3.10_qbz5n2kfra8p0\\localcache\\local-packages\\python310\\site-packages)\n",
      "\n",
      "[notice] A new release of pip is available: 23.1.2 -> 23.2.1\n",
      "[notice] To update, run: C:\\Users\\vamsi\\AppData\\Local\\Microsoft\\WindowsApps\\PythonSoftwareFoundation.Python.3.10_qbz5n2kfra8p0\\python.exe -m pip install --upgrade pip\n"
     ]
    }
   ],
   "source": [
    "!pip install tensorflow"
   ]
  },
  {
   "cell_type": "code",
   "execution_count": 2,
   "metadata": {},
   "outputs": [
    {
     "name": "stdout",
     "output_type": "stream",
     "text": [
      "Collecting tensorflow-addons\n",
      "  Downloading tensorflow_addons-0.21.0-cp310-cp310-win_amd64.whl (719 kB)\n",
      "                                              0.0/719.8 kB ? eta -:--:--\n",
      "     -----                                  112.6/719.8 kB 6.8 MB/s eta 0:00:01\n",
      "     ---------------------                  399.4/719.8 kB 5.0 MB/s eta 0:00:01\n",
      "     -------------------------------------- 719.8/719.8 kB 6.5 MB/s eta 0:00:00\n",
      "Collecting typeguard<3.0.0,>=2.7 (from tensorflow-addons)\n",
      "  Downloading typeguard-2.13.3-py3-none-any.whl (17 kB)\n",
      "Requirement already satisfied: packaging in c:\\users\\vamsi\\appdata\\local\\packages\\pythonsoftwarefoundation.python.3.10_qbz5n2kfra8p0\\localcache\\local-packages\\python310\\site-packages (from tensorflow-addons) (23.0)\n",
      "Installing collected packages: typeguard, tensorflow-addons\n",
      "Successfully installed tensorflow-addons-0.21.0 typeguard-2.13.3\n"
     ]
    },
    {
     "name": "stderr",
     "output_type": "stream",
     "text": [
      "WARNING: Ignoring invalid distribution -rotobuf (c:\\users\\vamsi\\appdata\\local\\packages\\pythonsoftwarefoundation.python.3.10_qbz5n2kfra8p0\\localcache\\local-packages\\python310\\site-packages)\n",
      "WARNING: Ignoring invalid distribution -rotobuf (c:\\users\\vamsi\\appdata\\local\\packages\\pythonsoftwarefoundation.python.3.10_qbz5n2kfra8p0\\localcache\\local-packages\\python310\\site-packages)\n",
      "WARNING: Ignoring invalid distribution -rotobuf (c:\\users\\vamsi\\appdata\\local\\packages\\pythonsoftwarefoundation.python.3.10_qbz5n2kfra8p0\\localcache\\local-packages\\python310\\site-packages)\n",
      "WARNING: Ignoring invalid distribution -rotobuf (c:\\users\\vamsi\\appdata\\local\\packages\\pythonsoftwarefoundation.python.3.10_qbz5n2kfra8p0\\localcache\\local-packages\\python310\\site-packages)\n",
      "\n",
      "[notice] A new release of pip is available: 23.1.2 -> 23.2.1\n",
      "[notice] To update, run: C:\\Users\\vamsi\\AppData\\Local\\Microsoft\\WindowsApps\\PythonSoftwareFoundation.Python.3.10_qbz5n2kfra8p0\\python.exe -m pip install --upgrade pip\n"
     ]
    }
   ],
   "source": [
    "!pip install tensorflow-addons"
   ]
  },
  {
   "cell_type": "code",
   "execution_count": 3,
   "metadata": {},
   "outputs": [
    {
     "name": "stdout",
     "output_type": "stream",
     "text": [
      "Collecting imageio\n",
      "  Downloading imageio-2.31.3-py3-none-any.whl (313 kB)\n",
      "                                              0.0/313.0 kB ? eta -:--:--\n",
      "     -----------------------                194.6/313.0 kB 4.0 MB/s eta 0:00:01\n",
      "     -------------------------------------- 313.0/313.0 kB 4.9 MB/s eta 0:00:00\n",
      "Requirement already satisfied: numpy in c:\\users\\vamsi\\appdata\\local\\packages\\pythonsoftwarefoundation.python.3.10_qbz5n2kfra8p0\\localcache\\local-packages\\python310\\site-packages (from imageio) (1.23.5)\n",
      "Requirement already satisfied: pillow>=8.3.2 in c:\\users\\vamsi\\appdata\\local\\packages\\pythonsoftwarefoundation.python.3.10_qbz5n2kfra8p0\\localcache\\local-packages\\python310\\site-packages (from imageio) (9.5.0)\n",
      "Installing collected packages: imageio\n",
      "Successfully installed imageio-2.31.3\n"
     ]
    },
    {
     "name": "stderr",
     "output_type": "stream",
     "text": [
      "WARNING: Ignoring invalid distribution -rotobuf (c:\\users\\vamsi\\appdata\\local\\packages\\pythonsoftwarefoundation.python.3.10_qbz5n2kfra8p0\\localcache\\local-packages\\python310\\site-packages)\n",
      "WARNING: Ignoring invalid distribution -rotobuf (c:\\users\\vamsi\\appdata\\local\\packages\\pythonsoftwarefoundation.python.3.10_qbz5n2kfra8p0\\localcache\\local-packages\\python310\\site-packages)\n",
      "WARNING: Ignoring invalid distribution -rotobuf (c:\\users\\vamsi\\appdata\\local\\packages\\pythonsoftwarefoundation.python.3.10_qbz5n2kfra8p0\\localcache\\local-packages\\python310\\site-packages)\n",
      "WARNING: Ignoring invalid distribution -rotobuf (c:\\users\\vamsi\\appdata\\local\\packages\\pythonsoftwarefoundation.python.3.10_qbz5n2kfra8p0\\localcache\\local-packages\\python310\\site-packages)\n",
      "\n",
      "[notice] A new release of pip is available: 23.1.2 -> 23.2.1\n",
      "[notice] To update, run: C:\\Users\\vamsi\\AppData\\Local\\Microsoft\\WindowsApps\\PythonSoftwareFoundation.Python.3.10_qbz5n2kfra8p0\\python.exe -m pip install --upgrade pip\n"
     ]
    }
   ],
   "source": [
    "!pip install imageio"
   ]
  },
  {
   "cell_type": "code",
   "execution_count": 4,
   "metadata": {},
   "outputs": [
    {
     "name": "stdout",
     "output_type": "stream",
     "text": [
      "Collecting librosa\n",
      "  Downloading librosa-0.10.1-py3-none-any.whl (253 kB)\n",
      "                                              0.0/253.7 kB ? eta -:--:--\n",
      "     ------------------------------         204.8/253.7 kB 4.1 MB/s eta 0:00:01\n",
      "     -------------------------------------- 253.7/253.7 kB 5.2 MB/s eta 0:00:00\n",
      "Collecting audioread>=2.1.9 (from librosa)\n",
      "  Downloading audioread-3.0.0.tar.gz (377 kB)\n",
      "                                              0.0/377.0 kB ? eta -:--:--\n",
      "     -----------------------------------   358.4/377.0 kB 10.9 MB/s eta 0:00:01\n",
      "     -------------------------------------- 377.0/377.0 kB 7.8 MB/s eta 0:00:00\n",
      "  Preparing metadata (setup.py): started\n",
      "  Preparing metadata (setup.py): finished with status 'done'\n",
      "Requirement already satisfied: numpy!=1.22.0,!=1.22.1,!=1.22.2,>=1.20.3 in c:\\users\\vamsi\\appdata\\local\\packages\\pythonsoftwarefoundation.python.3.10_qbz5n2kfra8p0\\localcache\\local-packages\\python310\\site-packages (from librosa) (1.23.5)\n",
      "Requirement already satisfied: scipy>=1.2.0 in c:\\users\\vamsi\\appdata\\local\\packages\\pythonsoftwarefoundation.python.3.10_qbz5n2kfra8p0\\localcache\\local-packages\\python310\\site-packages (from librosa) (1.10.1)\n",
      "Collecting scikit-learn>=0.20.0 (from librosa)\n",
      "  Downloading scikit_learn-1.3.0-cp310-cp310-win_amd64.whl (9.2 MB)\n",
      "                                              0.0/9.2 MB ? eta -:--:--\n",
      "     -                                        0.4/9.2 MB 8.9 MB/s eta 0:00:01\n",
      "     ---                                      0.8/9.2 MB 8.6 MB/s eta 0:00:01\n",
      "     -----                                    1.2/9.2 MB 8.7 MB/s eta 0:00:01\n",
      "     -------                                  1.6/9.2 MB 8.7 MB/s eta 0:00:01\n",
      "     --------                                 2.0/9.2 MB 8.6 MB/s eta 0:00:01\n",
      "     ----------                               2.4/9.2 MB 8.6 MB/s eta 0:00:01\n",
      "     ------------                             2.8/9.2 MB 8.6 MB/s eta 0:00:01\n",
      "     -------------                            3.2/9.2 MB 8.6 MB/s eta 0:00:01\n",
      "     ---------------                          3.6/9.2 MB 8.6 MB/s eta 0:00:01\n",
      "     -----------------                        4.0/9.2 MB 8.6 MB/s eta 0:00:01\n",
      "     -------------------                      4.4/9.2 MB 8.6 MB/s eta 0:00:01\n",
      "     --------------------                     4.8/9.2 MB 8.6 MB/s eta 0:00:01\n",
      "     ----------------------                   5.3/9.2 MB 8.6 MB/s eta 0:00:01\n",
      "     ------------------------                 5.6/9.2 MB 8.6 MB/s eta 0:00:01\n",
      "     --------------------------               6.1/9.2 MB 8.6 MB/s eta 0:00:01\n",
      "     ---------------------------              6.5/9.2 MB 8.6 MB/s eta 0:00:01\n",
      "     -----------------------------            6.9/9.2 MB 8.4 MB/s eta 0:00:01\n",
      "     -------------------------------          7.3/9.2 MB 8.4 MB/s eta 0:00:01\n",
      "     ---------------------------------        7.7/9.2 MB 8.4 MB/s eta 0:00:01\n",
      "     ----------------------------------       8.1/9.2 MB 8.4 MB/s eta 0:00:01\n",
      "     ------------------------------------     8.4/9.2 MB 8.4 MB/s eta 0:00:01\n",
      "     --------------------------------------   8.9/9.2 MB 8.5 MB/s eta 0:00:01\n",
      "     ---------------------------------------  9.2/9.2 MB 8.4 MB/s eta 0:00:01\n",
      "     ---------------------------------------  9.2/9.2 MB 8.4 MB/s eta 0:00:01\n",
      "     ---------------------------------------  9.2/9.2 MB 8.4 MB/s eta 0:00:01\n",
      "     ---------------------------------------- 9.2/9.2 MB 7.5 MB/s eta 0:00:00\n",
      "Collecting joblib>=0.14 (from librosa)\n",
      "  Downloading joblib-1.3.2-py3-none-any.whl (302 kB)\n",
      "                                              0.0/302.2 kB ? eta -:--:--\n",
      "     -------------------------------------  297.0/302.2 kB 9.2 MB/s eta 0:00:01\n",
      "     -------------------------------------- 302.2/302.2 kB 9.4 MB/s eta 0:00:00\n",
      "Requirement already satisfied: decorator>=4.3.0 in c:\\users\\vamsi\\appdata\\local\\packages\\pythonsoftwarefoundation.python.3.10_qbz5n2kfra8p0\\localcache\\local-packages\\python310\\site-packages (from librosa) (5.1.1)\n",
      "Collecting numba>=0.51.0 (from librosa)\n",
      "  Downloading numba-0.57.1-cp310-cp310-win_amd64.whl (2.5 MB)\n",
      "                                              0.0/2.5 MB ? eta -:--:--\n",
      "     ------                                   0.4/2.5 MB 8.1 MB/s eta 0:00:01\n",
      "     ------------                             0.8/2.5 MB 8.3 MB/s eta 0:00:01\n",
      "     ------------------                       1.2/2.5 MB 8.4 MB/s eta 0:00:01\n",
      "     -------------------------                1.6/2.5 MB 8.4 MB/s eta 0:00:01\n",
      "     -------------------------------          2.0/2.5 MB 8.4 MB/s eta 0:00:01\n",
      "     -------------------------------------    2.4/2.5 MB 8.3 MB/s eta 0:00:01\n",
      "     ---------------------------------------  2.5/2.5 MB 8.0 MB/s eta 0:00:01\n",
      "     ---------------------------------------- 2.5/2.5 MB 6.7 MB/s eta 0:00:00\n",
      "Collecting soundfile>=0.12.1 (from librosa)\n",
      "  Downloading soundfile-0.12.1-py2.py3-none-win_amd64.whl (1.0 MB)\n",
      "                                              0.0/1.0 MB ? eta -:--:--\n",
      "     --------------                           0.4/1.0 MB 11.2 MB/s eta 0:00:01\n",
      "     ------------------------------           0.8/1.0 MB 9.7 MB/s eta 0:00:01\n",
      "     ---------------------------------------- 1.0/1.0 MB 8.0 MB/s eta 0:00:00\n",
      "Collecting pooch>=1.0 (from librosa)\n",
      "  Downloading pooch-1.7.0-py3-none-any.whl (60 kB)\n",
      "                                              0.0/60.9 kB ? eta -:--:--\n",
      "     ---------------------------------------- 60.9/60.9 kB ? eta 0:00:00\n",
      "Collecting soxr>=0.3.2 (from librosa)\n",
      "  Downloading soxr-0.3.6-cp310-cp310-win_amd64.whl (184 kB)\n",
      "                                              0.0/184.8 kB ? eta -:--:--\n",
      "     -------------------------------------- 184.8/184.8 kB 5.6 MB/s eta 0:00:00\n",
      "Requirement already satisfied: typing-extensions>=4.1.1 in c:\\users\\vamsi\\appdata\\local\\packages\\pythonsoftwarefoundation.python.3.10_qbz5n2kfra8p0\\localcache\\local-packages\\python310\\site-packages (from librosa) (4.5.0)\n",
      "Collecting lazy-loader>=0.1 (from librosa)\n",
      "  Downloading lazy_loader-0.3-py3-none-any.whl (9.1 kB)\n",
      "Collecting msgpack>=1.0 (from librosa)\n",
      "  Downloading msgpack-1.0.5-cp310-cp310-win_amd64.whl (61 kB)\n",
      "                                              0.0/61.6 kB ? eta -:--:--\n",
      "     ---------------------------------------  61.4/61.6 kB ? eta -:--:--\n",
      "     ---------------------------------------- 61.6/61.6 kB 1.1 MB/s eta 0:00:00\n",
      "Collecting llvmlite<0.41,>=0.40.0dev0 (from numba>=0.51.0->librosa)\n",
      "  Downloading llvmlite-0.40.1-cp310-cp310-win_amd64.whl (27.7 MB)\n",
      "                                              0.0/27.7 MB ? eta -:--:--\n",
      "                                              0.4/27.7 MB 8.7 MB/s eta 0:00:04\n",
      "     -                                        0.8/27.7 MB 8.7 MB/s eta 0:00:04\n",
      "     -                                        1.2/27.7 MB 8.7 MB/s eta 0:00:04\n",
      "     --                                       1.6/27.7 MB 8.7 MB/s eta 0:00:03\n",
      "     --                                       2.0/27.7 MB 8.7 MB/s eta 0:00:03\n",
      "     ---                                      2.4/27.7 MB 8.7 MB/s eta 0:00:03\n",
      "     ----                                     2.9/27.7 MB 8.7 MB/s eta 0:00:03\n",
      "     ----                                     3.2/27.7 MB 8.6 MB/s eta 0:00:03\n",
      "     -----                                    3.6/27.7 MB 8.6 MB/s eta 0:00:03\n",
      "     -----                                    4.1/27.7 MB 8.6 MB/s eta 0:00:03\n",
      "     ------                                   4.4/27.7 MB 8.6 MB/s eta 0:00:03\n",
      "     ------                                   4.8/27.7 MB 8.6 MB/s eta 0:00:03\n",
      "     -------                                  5.3/27.7 MB 8.4 MB/s eta 0:00:03\n",
      "     --------                                 5.7/27.7 MB 8.4 MB/s eta 0:00:03\n",
      "     --------                                 6.1/27.7 MB 8.4 MB/s eta 0:00:03\n",
      "     ---------                                6.5/27.7 MB 8.4 MB/s eta 0:00:03\n",
      "     ---------                                6.9/27.7 MB 8.4 MB/s eta 0:00:03\n",
      "     ----------                               7.2/27.7 MB 8.4 MB/s eta 0:00:03\n",
      "     -----------                              7.7/27.7 MB 8.4 MB/s eta 0:00:03\n",
      "     -----------                              8.0/27.7 MB 8.4 MB/s eta 0:00:03\n",
      "     ------------                             8.4/27.7 MB 8.4 MB/s eta 0:00:03\n",
      "     ------------                             8.8/27.7 MB 8.4 MB/s eta 0:00:03\n",
      "     -------------                            9.2/27.7 MB 8.4 MB/s eta 0:00:03\n",
      "     -------------                            9.6/27.7 MB 8.4 MB/s eta 0:00:03\n",
      "     --------------                           10.0/27.7 MB 8.4 MB/s eta 0:00:03\n",
      "     ---------------                          10.4/27.7 MB 8.4 MB/s eta 0:00:03\n",
      "     ---------------                          10.8/27.7 MB 8.4 MB/s eta 0:00:03\n",
      "     ----------------                         11.3/27.7 MB 8.4 MB/s eta 0:00:02\n",
      "     ----------------                         11.6/27.7 MB 8.4 MB/s eta 0:00:02\n",
      "     -----------------                        12.0/27.7 MB 8.4 MB/s eta 0:00:02\n",
      "     -----------------                        12.4/27.7 MB 8.4 MB/s eta 0:00:02\n",
      "     ------------------                       12.8/27.7 MB 8.4 MB/s eta 0:00:02\n",
      "     -------------------                      13.2/27.7 MB 8.4 MB/s eta 0:00:02\n",
      "     -------------------                      13.6/27.7 MB 8.5 MB/s eta 0:00:02\n",
      "     --------------------                     14.0/27.7 MB 8.4 MB/s eta 0:00:02\n",
      "     --------------------                     14.4/27.7 MB 8.4 MB/s eta 0:00:02\n",
      "     ---------------------                    14.8/27.7 MB 8.4 MB/s eta 0:00:02\n",
      "     ---------------------                    15.2/27.7 MB 8.4 MB/s eta 0:00:02\n",
      "     ----------------------                   15.6/27.7 MB 8.4 MB/s eta 0:00:02\n",
      "     -----------------------                  16.0/27.7 MB 8.4 MB/s eta 0:00:02\n",
      "     -----------------------                  16.4/27.7 MB 8.4 MB/s eta 0:00:02\n",
      "     ------------------------                 16.8/27.7 MB 8.4 MB/s eta 0:00:02\n",
      "     ------------------------                 17.2/27.7 MB 8.4 MB/s eta 0:00:02\n",
      "     -------------------------                17.6/27.7 MB 8.4 MB/s eta 0:00:02\n",
      "     -------------------------                18.0/27.7 MB 8.4 MB/s eta 0:00:02\n",
      "     --------------------------               18.4/27.7 MB 8.4 MB/s eta 0:00:02\n",
      "     ---------------------------              18.7/27.7 MB 8.4 MB/s eta 0:00:02\n",
      "     ---------------------------              19.1/27.7 MB 8.4 MB/s eta 0:00:02\n",
      "     ----------------------------             19.6/27.7 MB 8.4 MB/s eta 0:00:01\n",
      "     ----------------------------             20.0/27.7 MB 8.4 MB/s eta 0:00:01\n",
      "     -----------------------------            20.3/27.7 MB 8.4 MB/s eta 0:00:01\n",
      "     -----------------------------            20.7/27.7 MB 8.4 MB/s eta 0:00:01\n",
      "     ------------------------------           21.1/27.7 MB 8.4 MB/s eta 0:00:01\n",
      "     -------------------------------          21.6/27.7 MB 8.4 MB/s eta 0:00:01\n",
      "     -------------------------------          22.0/27.7 MB 8.4 MB/s eta 0:00:01\n",
      "     --------------------------------         22.4/27.7 MB 8.5 MB/s eta 0:00:01\n",
      "     --------------------------------         22.7/27.7 MB 8.5 MB/s eta 0:00:01\n",
      "     ---------------------------------        23.1/27.7 MB 8.4 MB/s eta 0:00:01\n",
      "     ---------------------------------        23.5/27.7 MB 8.5 MB/s eta 0:00:01\n",
      "     ----------------------------------       24.0/27.7 MB 8.5 MB/s eta 0:00:01\n",
      "     -----------------------------------      24.4/27.7 MB 8.5 MB/s eta 0:00:01\n",
      "     -----------------------------------      24.7/27.7 MB 8.5 MB/s eta 0:00:01\n",
      "     ------------------------------------     25.1/27.7 MB 8.5 MB/s eta 0:00:01\n",
      "     ------------------------------------     25.5/27.7 MB 8.5 MB/s eta 0:00:01\n",
      "     -------------------------------------    25.9/27.7 MB 8.5 MB/s eta 0:00:01\n",
      "     --------------------------------------   26.3/27.7 MB 8.5 MB/s eta 0:00:01\n",
      "     --------------------------------------   26.8/27.7 MB 8.5 MB/s eta 0:00:01\n",
      "     ---------------------------------------  27.2/27.7 MB 8.5 MB/s eta 0:00:01\n",
      "     ---------------------------------------  27.5/27.7 MB 8.5 MB/s eta 0:00:01\n",
      "     ---------------------------------------  27.7/27.7 MB 8.4 MB/s eta 0:00:01\n",
      "     ---------------------------------------  27.7/27.7 MB 8.4 MB/s eta 0:00:01\n",
      "     ---------------------------------------  27.7/27.7 MB 8.4 MB/s eta 0:00:01\n",
      "     ---------------------------------------  27.7/27.7 MB 8.4 MB/s eta 0:00:01\n",
      "     ---------------------------------------  27.7/27.7 MB 8.4 MB/s eta 0:00:01\n",
      "     ---------------------------------------  27.7/27.7 MB 8.4 MB/s eta 0:00:01\n",
      "     ---------------------------------------  27.7/27.7 MB 8.4 MB/s eta 0:00:01\n",
      "     ---------------------------------------  27.7/27.7 MB 8.4 MB/s eta 0:00:01\n",
      "     ---------------------------------------- 27.7/27.7 MB 6.3 MB/s eta 0:00:00\n",
      "Requirement already satisfied: platformdirs>=2.5.0 in c:\\users\\vamsi\\appdata\\local\\packages\\pythonsoftwarefoundation.python.3.10_qbz5n2kfra8p0\\localcache\\local-packages\\python310\\site-packages (from pooch>=1.0->librosa) (3.0.0)\n",
      "Requirement already satisfied: packaging>=20.0 in c:\\users\\vamsi\\appdata\\local\\packages\\pythonsoftwarefoundation.python.3.10_qbz5n2kfra8p0\\localcache\\local-packages\\python310\\site-packages (from pooch>=1.0->librosa) (23.0)\n",
      "Requirement already satisfied: requests>=2.19.0 in c:\\users\\vamsi\\appdata\\local\\packages\\pythonsoftwarefoundation.python.3.10_qbz5n2kfra8p0\\localcache\\local-packages\\python310\\site-packages (from pooch>=1.0->librosa) (2.28.2)\n",
      "Collecting threadpoolctl>=2.0.0 (from scikit-learn>=0.20.0->librosa)\n",
      "  Downloading threadpoolctl-3.2.0-py3-none-any.whl (15 kB)\n",
      "Requirement already satisfied: cffi>=1.0 in c:\\users\\vamsi\\appdata\\local\\packages\\pythonsoftwarefoundation.python.3.10_qbz5n2kfra8p0\\localcache\\local-packages\\python310\\site-packages (from soundfile>=0.12.1->librosa) (1.15.1)\n",
      "Requirement already satisfied: pycparser in c:\\users\\vamsi\\appdata\\local\\packages\\pythonsoftwarefoundation.python.3.10_qbz5n2kfra8p0\\localcache\\local-packages\\python310\\site-packages (from cffi>=1.0->soundfile>=0.12.1->librosa) (2.21)\n",
      "Requirement already satisfied: charset-normalizer<4,>=2 in c:\\users\\vamsi\\appdata\\local\\packages\\pythonsoftwarefoundation.python.3.10_qbz5n2kfra8p0\\localcache\\local-packages\\python310\\site-packages (from requests>=2.19.0->pooch>=1.0->librosa) (3.0.1)\n",
      "Requirement already satisfied: idna<4,>=2.5 in c:\\users\\vamsi\\appdata\\local\\packages\\pythonsoftwarefoundation.python.3.10_qbz5n2kfra8p0\\localcache\\local-packages\\python310\\site-packages (from requests>=2.19.0->pooch>=1.0->librosa) (3.4)\n",
      "Requirement already satisfied: urllib3<1.27,>=1.21.1 in c:\\users\\vamsi\\appdata\\local\\packages\\pythonsoftwarefoundation.python.3.10_qbz5n2kfra8p0\\localcache\\local-packages\\python310\\site-packages (from requests>=2.19.0->pooch>=1.0->librosa) (1.26.14)\n",
      "Requirement already satisfied: certifi>=2017.4.17 in c:\\users\\vamsi\\appdata\\local\\packages\\pythonsoftwarefoundation.python.3.10_qbz5n2kfra8p0\\localcache\\local-packages\\python310\\site-packages (from requests>=2.19.0->pooch>=1.0->librosa) (2022.12.7)\n",
      "Building wheels for collected packages: audioread\n",
      "  Building wheel for audioread (setup.py): started\n",
      "  Building wheel for audioread (setup.py): finished with status 'done'\n",
      "  Created wheel for audioread: filename=audioread-3.0.0-py3-none-any.whl size=23738 sha256=e1c76aa71a2604d6b562b725747b78b4edcb068b2ea82eceb48fa90f2b696373\n",
      "  Stored in directory: c:\\users\\vamsi\\appdata\\local\\packages\\pythonsoftwarefoundation.python.3.10_qbz5n2kfra8p0\\localcache\\local\\pip\\cache\\wheels\\da\\4b\\39\\c5f6c4ee93b43281dda4dab5ac5f2bdf9d11074d427493cd55\n",
      "Successfully built audioread\n",
      "Installing collected packages: msgpack, threadpoolctl, soxr, llvmlite, lazy-loader, joblib, audioread, soundfile, scikit-learn, pooch, numba, librosa\n",
      "Successfully installed audioread-3.0.0 joblib-1.3.2 lazy-loader-0.3 librosa-0.10.1 llvmlite-0.40.1 msgpack-1.0.5 numba-0.57.1 pooch-1.7.0 scikit-learn-1.3.0 soundfile-0.12.1 soxr-0.3.6 threadpoolctl-3.2.0\n"
     ]
    },
    {
     "name": "stderr",
     "output_type": "stream",
     "text": [
      "WARNING: Ignoring invalid distribution -rotobuf (c:\\users\\vamsi\\appdata\\local\\packages\\pythonsoftwarefoundation.python.3.10_qbz5n2kfra8p0\\localcache\\local-packages\\python310\\site-packages)\n",
      "WARNING: Ignoring invalid distribution -rotobuf (c:\\users\\vamsi\\appdata\\local\\packages\\pythonsoftwarefoundation.python.3.10_qbz5n2kfra8p0\\localcache\\local-packages\\python310\\site-packages)\n",
      "WARNING: Ignoring invalid distribution -rotobuf (c:\\users\\vamsi\\appdata\\local\\packages\\pythonsoftwarefoundation.python.3.10_qbz5n2kfra8p0\\localcache\\local-packages\\python310\\site-packages)\n",
      "WARNING: Ignoring invalid distribution -rotobuf (c:\\users\\vamsi\\appdata\\local\\packages\\pythonsoftwarefoundation.python.3.10_qbz5n2kfra8p0\\localcache\\local-packages\\python310\\site-packages)\n",
      "\n",
      "[notice] A new release of pip is available: 23.1.2 -> 23.2.1\n",
      "[notice] To update, run: C:\\Users\\vamsi\\AppData\\Local\\Microsoft\\WindowsApps\\PythonSoftwareFoundation.Python.3.10_qbz5n2kfra8p0\\python.exe -m pip install --upgrade pip\n"
     ]
    }
   ],
   "source": [
    "!pip install librosa"
   ]
  },
  {
   "cell_type": "code",
   "execution_count": 7,
   "metadata": {},
   "outputs": [
    {
     "name": "stdout",
     "output_type": "stream",
     "text": [
      "Requirement already satisfied: Ipython in c:\\users\\vamsi\\appdata\\local\\packages\\pythonsoftwarefoundation.python.3.10_qbz5n2kfra8p0\\localcache\\local-packages\\python310\\site-packages (8.10.0)\n",
      "Requirement already satisfied: backcall in c:\\users\\vamsi\\appdata\\local\\packages\\pythonsoftwarefoundation.python.3.10_qbz5n2kfra8p0\\localcache\\local-packages\\python310\\site-packages (from Ipython) (0.2.0)\n",
      "Requirement already satisfied: decorator in c:\\users\\vamsi\\appdata\\local\\packages\\pythonsoftwarefoundation.python.3.10_qbz5n2kfra8p0\\localcache\\local-packages\\python310\\site-packages (from Ipython) (5.1.1)\n",
      "Requirement already satisfied: jedi>=0.16 in c:\\users\\vamsi\\appdata\\local\\packages\\pythonsoftwarefoundation.python.3.10_qbz5n2kfra8p0\\localcache\\local-packages\\python310\\site-packages (from Ipython) (0.18.2)\n",
      "Requirement already satisfied: matplotlib-inline in c:\\users\\vamsi\\appdata\\local\\packages\\pythonsoftwarefoundation.python.3.10_qbz5n2kfra8p0\\localcache\\local-packages\\python310\\site-packages (from Ipython) (0.1.6)\n",
      "Requirement already satisfied: pickleshare in c:\\users\\vamsi\\appdata\\local\\packages\\pythonsoftwarefoundation.python.3.10_qbz5n2kfra8p0\\localcache\\local-packages\\python310\\site-packages (from Ipython) (0.7.5)\n",
      "Requirement already satisfied: prompt-toolkit<3.1.0,>=3.0.30 in c:\\users\\vamsi\\appdata\\local\\packages\\pythonsoftwarefoundation.python.3.10_qbz5n2kfra8p0\\localcache\\local-packages\\python310\\site-packages (from Ipython) (3.0.36)\n",
      "Requirement already satisfied: pygments>=2.4.0 in c:\\users\\vamsi\\appdata\\local\\packages\\pythonsoftwarefoundation.python.3.10_qbz5n2kfra8p0\\localcache\\local-packages\\python310\\site-packages (from Ipython) (2.14.0)\n",
      "Requirement already satisfied: stack-data in c:\\users\\vamsi\\appdata\\local\\packages\\pythonsoftwarefoundation.python.3.10_qbz5n2kfra8p0\\localcache\\local-packages\\python310\\site-packages (from Ipython) (0.6.2)\n",
      "Requirement already satisfied: traitlets>=5 in c:\\users\\vamsi\\appdata\\local\\packages\\pythonsoftwarefoundation.python.3.10_qbz5n2kfra8p0\\localcache\\local-packages\\python310\\site-packages (from Ipython) (5.9.0)\n",
      "Requirement already satisfied: colorama in c:\\users\\vamsi\\appdata\\local\\packages\\pythonsoftwarefoundation.python.3.10_qbz5n2kfra8p0\\localcache\\local-packages\\python310\\site-packages (from Ipython) (0.4.6)\n",
      "Requirement already satisfied: parso<0.9.0,>=0.8.0 in c:\\users\\vamsi\\appdata\\local\\packages\\pythonsoftwarefoundation.python.3.10_qbz5n2kfra8p0\\localcache\\local-packages\\python310\\site-packages (from jedi>=0.16->Ipython) (0.8.3)\n",
      "Requirement already satisfied: wcwidth in c:\\users\\vamsi\\appdata\\local\\packages\\pythonsoftwarefoundation.python.3.10_qbz5n2kfra8p0\\localcache\\local-packages\\python310\\site-packages (from prompt-toolkit<3.1.0,>=3.0.30->Ipython) (0.2.6)\n",
      "Requirement already satisfied: executing>=1.2.0 in c:\\users\\vamsi\\appdata\\local\\packages\\pythonsoftwarefoundation.python.3.10_qbz5n2kfra8p0\\localcache\\local-packages\\python310\\site-packages (from stack-data->Ipython) (1.2.0)\n",
      "Requirement already satisfied: asttokens>=2.1.0 in c:\\users\\vamsi\\appdata\\local\\packages\\pythonsoftwarefoundation.python.3.10_qbz5n2kfra8p0\\localcache\\local-packages\\python310\\site-packages (from stack-data->Ipython) (2.2.1)\n",
      "Requirement already satisfied: pure-eval in c:\\users\\vamsi\\appdata\\local\\packages\\pythonsoftwarefoundation.python.3.10_qbz5n2kfra8p0\\localcache\\local-packages\\python310\\site-packages (from stack-data->Ipython) (0.2.2)\n",
      "Requirement already satisfied: six in c:\\users\\vamsi\\appdata\\local\\packages\\pythonsoftwarefoundation.python.3.10_qbz5n2kfra8p0\\localcache\\local-packages\\python310\\site-packages (from asttokens>=2.1.0->stack-data->Ipython) (1.16.0)\n"
     ]
    },
    {
     "name": "stderr",
     "output_type": "stream",
     "text": [
      "WARNING: Ignoring invalid distribution -rotobuf (c:\\users\\vamsi\\appdata\\local\\packages\\pythonsoftwarefoundation.python.3.10_qbz5n2kfra8p0\\localcache\\local-packages\\python310\\site-packages)\n",
      "WARNING: Ignoring invalid distribution -rotobuf (c:\\users\\vamsi\\appdata\\local\\packages\\pythonsoftwarefoundation.python.3.10_qbz5n2kfra8p0\\localcache\\local-packages\\python310\\site-packages)\n",
      "WARNING: Ignoring invalid distribution -rotobuf (c:\\users\\vamsi\\appdata\\local\\packages\\pythonsoftwarefoundation.python.3.10_qbz5n2kfra8p0\\localcache\\local-packages\\python310\\site-packages)\n",
      "WARNING: Ignoring invalid distribution -rotobuf (c:\\users\\vamsi\\appdata\\local\\packages\\pythonsoftwarefoundation.python.3.10_qbz5n2kfra8p0\\localcache\\local-packages\\python310\\site-packages)\n",
      "\n",
      "[notice] A new release of pip is available: 23.1.2 -> 23.2.1\n",
      "[notice] To update, run: C:\\Users\\vamsi\\AppData\\Local\\Microsoft\\WindowsApps\\PythonSoftwareFoundation.Python.3.10_qbz5n2kfra8p0\\python.exe -m pip install --upgrade pip\n"
     ]
    }
   ],
   "source": [
    "!pip install Ipython"
   ]
  },
  {
   "cell_type": "code",
   "execution_count": 13,
   "metadata": {},
   "outputs": [],
   "source": [
    "import librosa\n",
    "\n",
    "import numpy as np\n",
    "import pandas as pd\n",
    "import os\n",
    "\n",
    "import tensorflow as tf\n",
    "import tensorflow_addons as tfa\n",
    "from tensorflow.keras import layers\n",
    "\n",
    "import matplotlib.pyplot as plt\n",
    "import IPython.display as ipd\n",
    "from IPython.display import clear_output\n",
    "\n",
    "from tqdm.notebook import tqdm\n",
    "\n",
    "import glob\n",
    "import imageio\n",
    "import time\n",
    "\n",
    "AUTOTUNE = tf.data.experimental.AUTOTUNE"
   ]
  },
  {
   "cell_type": "code",
   "execution_count": 14,
   "metadata": {},
   "outputs": [],
   "source": [
    "seed=111\n",
    "tf.compat.v1.set_random_seed(seed)\n",
    "\n",
    "session_config = tf.compat.v1.ConfigProto(intra_op_parallelism_threads=1, inter_op_parallelism_threads=1)\n",
    "session = tf.compat.v1.Session(graph=tf.compat.v1.get_default_graph(), config=session_config)\n",
    "\n",
    "tf.compat.v1.keras.backend.set_session(session)"
   ]
  },
  {
   "cell_type": "code",
   "execution_count": 20,
   "metadata": {},
   "outputs": [
    {
     "data": {
      "application/vnd.jupyter.widget-view+json": {
       "model_id": "ce9ff24e4f694da1b129000deffbc0a0",
       "version_major": 2,
       "version_minor": 0
      },
      "text/plain": [
       "0it [00:00, ?it/s]"
      ]
     },
     "metadata": {},
     "output_type": "display_data"
    },
    {
     "name": "stdout",
     "output_type": "stream",
     "text": [
      "6045\n",
      "1955\n"
     ]
    }
   ],
   "source": [
    "# Seperating the training and testing data\n",
    "# Dataset already contains an 75-25 split of training and testing (check the csv file for details)\n",
    "\n",
    "# Read the CSV file\n",
    "df = pd.read_csv('data\\warblrb10k_public_metadata.csv')\n",
    "\n",
    "# Create lists for train and test datasets\n",
    "train_files = [] # Contains paths of all files needed for training\n",
    "test_files = []  # Contains paths of all files needed for testing\n",
    "\n",
    "# Iterate over the DataFrame\n",
    "for index, row in tqdm(df.iterrows()):\n",
    "    itemid = row['itemid']\n",
    "    hasbird = row['hasbird']\n",
    "    \n",
    "    # Define the path of the audio file\n",
    "    file_path = os.path.join('data\\wav', f'{itemid}.wav')  # replace .wav with your audio file extension\n",
    "    \n",
    "    # If hasbird is 1, add the file to the train list\n",
    "    if hasbird == 1:\n",
    "        train_files.append(file_path)\n",
    "    # Else, add the file to the test list\n",
    "    else:\n",
    "        test_files.append(file_path)\n",
    "\n",
    "print(len(train_files))\n",
    "print(len(test_files))"
   ]
  },
  {
   "cell_type": "code",
   "execution_count": 19,
   "metadata": {},
   "outputs": [
    {
     "name": "stdout",
     "output_type": "stream",
     "text": [
      "6045\n",
      "1955\n"
     ]
    }
   ],
   "source": []
  },
  {
   "cell_type": "code",
   "execution_count": null,
   "metadata": {},
   "outputs": [],
   "source": []
  }
 ],
 "metadata": {
  "kernelspec": {
   "display_name": "Python 3",
   "language": "python",
   "name": "python3"
  },
  "language_info": {
   "codemirror_mode": {
    "name": "ipython",
    "version": 3
   },
   "file_extension": ".py",
   "mimetype": "text/x-python",
   "name": "python",
   "nbconvert_exporter": "python",
   "pygments_lexer": "ipython3",
   "version": "3.10.11"
  },
  "orig_nbformat": 4
 },
 "nbformat": 4,
 "nbformat_minor": 2
}
